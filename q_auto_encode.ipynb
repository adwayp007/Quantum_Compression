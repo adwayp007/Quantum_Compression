{
 "cells": [
  {
   "cell_type": "code",
   "execution_count": 1,
   "id": "ed719ec1",
   "metadata": {},
   "outputs": [],
   "source": [
    "# Quantum Autoencoder for compression of Quantum Data\n",
    "\n",
    "from matplotlib import pyplot as plt\n",
    "from math import pi\n",
    "import pennylane as qml\n",
    "from pennylane import numpy as np\n",
    "from qiskit.quantum_info import DensityMatrix\n",
    "import qiskit\n",
    "from qiskit import QuantumCircuit, ClassicalRegister, QuantumRegister\n",
    "from qiskit.providers import backend\n",
    "from qiskit.quantum_info import Statevector\n",
    "from qiskit import transpile\n",
    "from qiskit.providers.aer import QasmSimulator\n",
    "import math\n",
    "# Initialize random seed\n",
    "rng = np.random.default_rng(324)\n",
    "# This is the number of input qubits\n",
    "no_of_qubits = 5\n",
    "#This is the number of ancilla qubits\n",
    "aux_qubits = 2\n",
    "# The code compresses no_of_qubits ---> (no_of_qubits-aux_qubits)\n",
    "\n",
    "# initialzing random parameters\n",
    "nparams = 2*(no_of_qubits*(no_of_qubits-1)+2*no_of_qubits)\n",
    "\n",
    "training_params = 2*math.pi*rng.random((1,nparams))\n",
    "training_params = training_params[0]\n",
    "\n",
    "# initial state preparation\n",
    "# initializes all input qubits to |1>, ancillas are default to |0>\n",
    "dev2 = qml.device(\"default.qubit\", wires=no_of_qubits+aux_qubits)\n",
    "@qml.qnode(dev2,diff_method=\"backprop\")\n",
    "def init_circuit():\n",
    "    for i in range(no_of_qubits):\n",
    "        qml.PauliX(wires=i+aux_qubits)\n",
    "    s= qml.state()\n",
    "    return s\n",
    "\n",
    "# in_state = Statevector(init_circuit())\n",
    "# in_state.draw('qsphere')"
   ]
  },
  {
   "cell_type": "code",
   "execution_count": null,
   "id": "3236d265",
   "metadata": {},
   "outputs": [
    {
     "name": "stdout",
     "output_type": "stream",
     "text": [
      "Cost after step     5: -0.6458421\n"
     ]
    }
   ],
   "source": [
    "# This is the main parametrized circuit to be trained\n",
    "dev1 = qml.device(\"default.qubit\", wires=no_of_qubits+aux_qubits)\n",
    "\n",
    "@qml.qnode(dev1,diff_method=\"backprop\")\n",
    "def circuit(training_params):\n",
    "    \n",
    "    # insert the RX, RZ, CRX, CRZ gates; this is the encoder part\n",
    "    ctheta = 0\n",
    "    for i in range(no_of_qubits):\n",
    "        qml.PauliX(wires=i+aux_qubits)\n",
    "    for i in range(no_of_qubits):\n",
    "        qml.RX(training_params[ctheta],wires=i+aux_qubits)\n",
    "        ctheta = ctheta+1\n",
    "        qml.RZ(training_params[ctheta],wires=i+aux_qubits)\n",
    "        ctheta = ctheta+1\n",
    "    for i in range(no_of_qubits):\n",
    "        for j in range(no_of_qubits):\n",
    "            if i!=j:\n",
    "                qml.CRX(training_params[ctheta],wires=[i+aux_qubits,j+aux_qubits])\n",
    "                ctheta = ctheta+1\n",
    "                qml.CRZ(training_params[ctheta],wires=[i+aux_qubits,j+aux_qubits])\n",
    "                ctheta = ctheta+1\n",
    "    for i in range(no_of_qubits):\n",
    "        qml.RX(training_params[ctheta],wires=i+aux_qubits)\n",
    "        ctheta = ctheta+1\n",
    "        qml.RZ(training_params[ctheta],wires=i+aux_qubits)\n",
    "        ctheta = ctheta+1\n",
    "    # Swap systems B and B'\n",
    "    for i in range(aux_qubits):\n",
    "        qml.SWAP(wires=[i,i+aux_qubits])\n",
    "    # insert the conjugate transpose; this is the decoder part\n",
    "    ctheta = 0\n",
    "    for i in range(no_of_qubits):\n",
    "        qml.RX(-training_params[ctheta],wires=i+aux_qubits)\n",
    "        ctheta = ctheta+1\n",
    "        qml.RZ(-training_params[ctheta],wires=i+aux_qubits)\n",
    "        ctheta = ctheta+1\n",
    "    for i in range(no_of_qubits):\n",
    "        for j in range(no_of_qubits):\n",
    "            if i!=j:\n",
    "                qml.CRX(-training_params[ctheta],wires=[i+aux_qubits,j+aux_qubits])\n",
    "                ctheta = ctheta+1\n",
    "                qml.CRZ(-training_params[ctheta],wires=[i+aux_qubits,j+aux_qubits])\n",
    "                ctheta = ctheta+1\n",
    "    for i in range(no_of_qubits):\n",
    "        qml.RX(-training_params[ctheta],wires=i+aux_qubits)\n",
    "        ctheta = ctheta+1\n",
    "        qml.RZ(-training_params[ctheta],wires=i+aux_qubits)\n",
    "        ctheta = ctheta+1\n",
    "\n",
    "    s = qml.state()\n",
    "    return s\n",
    "# this is the cost function f=log(1-F); F being the fidelty between input and output\n",
    "def cost(training_params):\n",
    "\n",
    "    X = init_circuit().numpy()\n",
    "\n",
    "    if isinstance(circuit(training_params), qml.numpy.tensor):\n",
    "        Y = circuit(training_params).numpy()\n",
    "    else:\n",
    "        Y = circuit(training_params)._value\n",
    " \n",
    "    return math.log(1-abs(np.vdot(X, Y))**2,10)\n",
    "\n",
    "# initialise the optimizer\n",
    "# opt = qml.GradientDescentOptimizer(stepsize=0.2)\n",
    "# opt = qml.AdamOptimizer(stepsize=0.4, beta1=0.9, beta2=0.99, eps=1e-10)\n",
    "# opt = qml.AdagradOptimizer(stepsize=0.2, eps=1e-08)\n",
    "opt = qml.optimize.RotosolveOptimizer()\n",
    "\n",
    "# set the number of steps\n",
    "steps = 100\n",
    "# run the optimizer\n",
    "for i in range(steps):\n",
    "    # update the circuit parameters\n",
    "    training_params = opt.step(cost, training_params)\n",
    "    if (i + 1) % 5 == 0:\n",
    "        print(\"Cost after step {:5d}: {: .7f}\".format(i + 1, cost(training_params)))"
   ]
  },
  {
   "cell_type": "code",
   "execution_count": 38,
   "id": "e7812e2a",
   "metadata": {},
   "outputs": [
    {
     "data": {
      "text/plain": [
       "array([ 0.07689827,  4.63177442,  4.55684637,  3.35322611,  1.69012804,\n",
       "        1.8561345 ,  7.15954575, -0.39888896,  2.10002168,  3.16814288,\n",
       "       -0.21359886,  1.03209226,  2.54079041,  5.87905711,  4.19930095,\n",
       "        3.4588705 ,  3.9105843 ,  3.13185211, -0.10060596,  5.29031329,\n",
       "        3.02628184,  1.33031201,  4.48604283,  2.79060769,  3.47948099,\n",
       "        1.6808305 ,  0.22435281,  1.82753898,  3.09996599,  1.26346069,\n",
       "        4.35344313,  2.29689616,  2.67428601,  6.92256641,  0.28517779,\n",
       "        2.08347304,  2.68915219,  6.2541903 ,  0.55349574,  4.51791835,\n",
       "        3.47257864,  4.35934498,  0.3715477 ,  2.55465557, -0.69844256,\n",
       "        1.3069818 ,  0.71165069,  2.02707617,  0.08435614,  1.01005687,\n",
       "        3.37173371, 42.40020563,  1.50891013, 52.74197072,  4.43757249,\n",
       "        5.77729158,  0.14580114,  2.90280075, -0.13489348,  6.01700139])"
      ]
     },
     "execution_count": 38,
     "metadata": {},
     "output_type": "execute_result"
    }
   ],
   "source": [
    "training_params"
   ]
  },
  {
   "cell_type": "code",
   "execution_count": 39,
   "id": "5c29f320",
   "metadata": {},
   "outputs": [],
   "source": [
    "# with the trained parameters, produce the compressed state\n",
    "\n",
    "dev3 = qml.device(\"default.qubit\", wires=no_of_qubits)\n",
    "@qml.qnode(dev3,diff_method=\"backprop\")\n",
    "def trained_circuit(training_params):\n",
    "    ctheta = 0\n",
    "    for i in range(no_of_qubits):\n",
    "        qml.PauliX(wires=i)\n",
    "    for i in range(no_of_qubits):\n",
    "        qml.RX(training_params[ctheta],wires=i)\n",
    "        ctheta = ctheta+1\n",
    "        qml.RZ(training_params[ctheta],wires=i)\n",
    "        ctheta = ctheta+1\n",
    "    for i in range(no_of_qubits):\n",
    "        for j in range(no_of_qubits):\n",
    "            if i!=j:\n",
    "                qml.CRX(training_params[ctheta],wires=[i,j])\n",
    "                ctheta = ctheta+1\n",
    "                qml.CRZ(training_params[ctheta],wires=[i,j])\n",
    "                ctheta = ctheta+1\n",
    "    for i in range(no_of_qubits):\n",
    "        qml.RX(training_params[ctheta],wires=i)\n",
    "        ctheta = ctheta+1\n",
    "        qml.RZ(training_params[ctheta],wires=i)\n",
    "        ctheta = ctheta+1\n",
    "    s = qml.state()\n",
    "    return s"
   ]
  },
  {
   "cell_type": "code",
   "execution_count": 40,
   "id": "7f56aabd",
   "metadata": {},
   "outputs": [],
   "source": [
    "vec=trained_circuit(training_params)"
   ]
  },
  {
   "cell_type": "code",
   "execution_count": 41,
   "id": "c8625f93",
   "metadata": {},
   "outputs": [
    {
     "name": "stdout",
     "output_type": "stream",
     "text": [
      "DensityMatrix([[ 5.08269928e-01+0.00000000e+00j,\n",
      "                -9.25042570e-02+1.57903100e-01j,\n",
      "                -8.85702999e-03+2.49128501e-03j,\n",
      "                 3.83954468e-02+1.22444502e-02j,\n",
      "                -8.79402319e-03-1.44188875e-02j,\n",
      "                -3.73842441e-03+9.53307292e-03j,\n",
      "                 1.56605243e-03+3.80809376e-05j,\n",
      "                -7.73761783e-03-3.85779131e-04j],\n",
      "               [-9.25042570e-02-1.57903100e-01j,\n",
      "                 4.78824294e-01+0.00000000e+00j,\n",
      "                 1.06170685e-02-5.20037895e-03j,\n",
      "                 7.46326834e-03-2.80796722e-03j,\n",
      "                -2.37960816e-03+7.50963047e-03j,\n",
      "                -2.59932083e-03-1.68848165e-02j,\n",
      "                -6.21770638e-03+7.70362237e-03j,\n",
      "                -1.28442282e-03-1.70306671e-03j],\n",
      "               [-8.85702999e-03-2.49128501e-03j,\n",
      "                 1.06170685e-02+5.20037895e-03j,\n",
      "                 3.84506084e-03+0.00000000e+00j,\n",
      "                 2.69772226e-04+1.93966774e-03j,\n",
      "                 8.68976339e-04+4.47686573e-04j,\n",
      "                 8.97932333e-04-9.95888696e-04j,\n",
      "                -4.11480799e-04+3.43823125e-04j,\n",
      "                -2.78576401e-04-1.83218289e-04j],\n",
      "               [ 3.83954468e-02-1.22444502e-02j,\n",
      "                 7.46326834e-03+2.80796722e-03j,\n",
      "                 2.69772226e-04-1.93966774e-03j,\n",
      "                 5.82509233e-03+0.00000000e+00j,\n",
      "                -7.57167355e-04-8.41781980e-04j,\n",
      "                -1.06875650e-03+1.41393005e-04j,\n",
      "                -1.98801870e-04+5.25752237e-04j,\n",
      "                -8.00511087e-04+3.50106646e-04j],\n",
      "               [-8.79402319e-03+1.44188875e-02j,\n",
      "                -2.37960816e-03-7.50963047e-03j,\n",
      "                 8.68976339e-04-4.47686573e-04j,\n",
      "                -7.57167355e-04+8.41781980e-04j,\n",
      "                 1.04009010e-03+0.00000000e+00j,\n",
      "                -1.01847974e-04-1.81711941e-04j,\n",
      "                 7.60585854e-05+4.69515991e-04j,\n",
      "                -9.97564620e-07-3.00861448e-04j],\n",
      "               [-3.73842441e-03-9.53307292e-03j,\n",
      "                -2.59932083e-03+1.68848165e-02j,\n",
      "                 8.97932333e-04+9.95888696e-04j,\n",
      "                -1.06875650e-03-1.41393005e-04j,\n",
      "                -1.01847974e-04+1.81711941e-04j,\n",
      "                 1.26056292e-03+0.00000000e+00j,\n",
      "                -5.74207886e-05-3.42301650e-04j,\n",
      "                 1.20987428e-04+2.85696425e-05j],\n",
      "               [ 1.56605243e-03-3.80809376e-05j,\n",
      "                -6.21770638e-03-7.70362237e-03j,\n",
      "                -4.11480799e-04-3.43823125e-04j,\n",
      "                -1.98801870e-04-5.25752237e-04j,\n",
      "                 7.60585854e-05-4.69515991e-04j,\n",
      "                -5.74207886e-05+3.42301650e-04j,\n",
      "                 6.71280108e-04+0.00000000e+00j,\n",
      "                -1.66952194e-04+1.38733849e-04j],\n",
      "               [-7.73761783e-03+3.85779131e-04j,\n",
      "                -1.28442282e-03+1.70306671e-03j,\n",
      "                -2.78576401e-04+1.83218289e-04j,\n",
      "                -8.00511087e-04-3.50106646e-04j,\n",
      "                -9.97564620e-07+3.00861448e-04j,\n",
      "                 1.20987428e-04-2.85696425e-05j,\n",
      "                -1.66952194e-04-1.38733849e-04j,\n",
      "                 2.63691756e-04+0.00000000e+00j]],\n",
      "              dims=(2, 2, 2))\n"
     ]
    }
   ],
   "source": [
    "s2=Statevector(vec)\n",
    "traced_state = qiskit.quantum_info.partial_trace(s2,[x for x in range(aux_qubits)])\n",
    "print(traced_state)"
   ]
  },
  {
   "cell_type": "code",
   "execution_count": 42,
   "id": "20a0031b",
   "metadata": {},
   "outputs": [
    {
     "data": {
      "image/png": "[encoded data removed]",
      "text/plain": [
       "<Figure size 504x504 with 2 Axes>"
      ]
     },
     "execution_count": 42,
     "metadata": {},
     "output_type": "execute_result"
    }
   ],
   "source": [
    "traced_state.draw('qsphere')"
   ]
  },
  {
   "cell_type": "code",
   "execution_count": null,
   "id": "91b64df1",
   "metadata": {},
   "outputs": [],
   "source": []
  },
  {
   "cell_type": "code",
   "execution_count": null,
   "id": "80b1cb9e",
   "metadata": {},
   "outputs": [],
   "source": []
  }
 ],
 "metadata": {
  "kernelspec": {
   "display_name": "Python 3",
   "language": "python",
   "name": "python3"
  },
  "language_info": {
   "codemirror_mode": {
    "name": "ipython",
    "version": 3
   },
   "file_extension": ".py",
   "mimetype": "text/x-python",
   "name": "python",
   "nbconvert_exporter": "python",
   "pygments_lexer": "ipython3",
   "version": "3.8.8"
  }
 },
 "nbformat": 4,
 "nbformat_minor": 5
}
